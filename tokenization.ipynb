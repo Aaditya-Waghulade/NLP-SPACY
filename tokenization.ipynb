{
 "cells": [
  {
   "cell_type": "markdown",
   "id": "762b48a9-7a6e-4c37-9add-84090b7523df",
   "metadata": {},
   "source": [
    "# Tokenization with Spacy\n"
   ]
  },
  {
   "cell_type": "code",
   "execution_count": 2,
   "id": "86b4fb59-91f9-4822-9679-50f5c5e4f3f3",
   "metadata": {},
   "outputs": [],
   "source": [
    "import spacy"
   ]
  },
  {
   "cell_type": "code",
   "execution_count": 3,
   "id": "3974aaeb-adf3-48c6-a5ca-b362f56b682f",
   "metadata": {},
   "outputs": [
    {
     "name": "stdout",
     "output_type": "stream",
     "text": [
      "DR\n",
      ".\n",
      "Strange\n",
      "loves\n",
      "pavbhaji\n",
      "of\n",
      "mumbai\n",
      "as\n",
      "it\n",
      "costs\n",
      "only\n",
      "for\n",
      "$\n",
      "2\n",
      "per\n",
      "plate\n",
      ".\n",
      "Hulk\n",
      "visited\n",
      "Delhi\n",
      "for\n",
      "Eating\n",
      "Gol\n",
      "Gappa\n"
     ]
    }
   ],
   "source": [
    "nlp = spacy.blank(\"en\")# to create blank english language component\n",
    "doc = nlp(\"DR. Strange loves pavbhaji of mumbai as it costs only for $2 per plate. Hulk visited Delhi for Eating Gol Gappa\") #Givng text to nlp which is spacy.blank\n",
    "\n",
    "#Tokenization\n",
    "# creating tokens of the single word\n",
    "for tokens in doc:\n",
    "    print(tokens)"
   ]
  },
  {
   "cell_type": "code",
   "execution_count": 4,
   "id": "cdf483f8-2a42-4637-ba12-0daab6835cc7",
   "metadata": {},
   "outputs": [],
   "source": [
    "doc  = nlp(\"tony gives $10000 to peter to buy a car\")\n"
   ]
  },
  {
   "cell_type": "code",
   "execution_count": 5,
   "id": "05e9c885-a016-4b3f-bf12-c7d54a5167df",
   "metadata": {},
   "outputs": [
    {
     "data": {
      "text/plain": [
       "tony"
      ]
     },
     "execution_count": 5,
     "metadata": {},
     "output_type": "execute_result"
    }
   ],
   "source": [
    "token0 = doc[0]\n",
    "token0"
   ]
  },
  {
   "cell_type": "code",
   "execution_count": 6,
   "id": "c4d83799-b622-4879-b5dd-4ce444aa568b",
   "metadata": {},
   "outputs": [
    {
     "data": {
      "text/plain": [
       "spacy.tokens.token.Token"
      ]
     },
     "execution_count": 6,
     "metadata": {},
     "output_type": "execute_result"
    }
   ],
   "source": [
    "type(token0)"
   ]
  },
  {
   "cell_type": "markdown",
   "id": "f5dbcaca-05cb-459c-8df6-ab00aafdaed6",
   "metadata": {},
   "source": [
    "# 2. Lets disscuss about token attributes"
   ]
  },
  {
   "cell_type": "code",
   "execution_count": 7,
   "id": "f9fbd792-830f-46be-bbd2-60a55ab661da",
   "metadata": {},
   "outputs": [
    {
     "data": {
      "text/plain": [
       "['_',\n",
       " '__bytes__',\n",
       " '__class__',\n",
       " '__delattr__',\n",
       " '__dir__',\n",
       " '__doc__',\n",
       " '__eq__',\n",
       " '__format__',\n",
       " '__ge__',\n",
       " '__getattribute__',\n",
       " '__getstate__',\n",
       " '__gt__',\n",
       " '__hash__',\n",
       " '__init__',\n",
       " '__init_subclass__',\n",
       " '__le__',\n",
       " '__len__',\n",
       " '__lt__',\n",
       " '__ne__',\n",
       " '__new__',\n",
       " '__pyx_vtable__',\n",
       " '__reduce__',\n",
       " '__reduce_ex__',\n",
       " '__repr__',\n",
       " '__setattr__',\n",
       " '__sizeof__',\n",
       " '__str__',\n",
       " '__subclasshook__',\n",
       " '__unicode__',\n",
       " 'ancestors',\n",
       " 'check_flag',\n",
       " 'children',\n",
       " 'cluster',\n",
       " 'conjuncts',\n",
       " 'dep',\n",
       " 'dep_',\n",
       " 'doc',\n",
       " 'ent_id',\n",
       " 'ent_id_',\n",
       " 'ent_iob',\n",
       " 'ent_iob_',\n",
       " 'ent_kb_id',\n",
       " 'ent_kb_id_',\n",
       " 'ent_type',\n",
       " 'ent_type_',\n",
       " 'get_extension',\n",
       " 'has_dep',\n",
       " 'has_extension',\n",
       " 'has_head',\n",
       " 'has_morph',\n",
       " 'has_vector',\n",
       " 'head',\n",
       " 'i',\n",
       " 'idx',\n",
       " 'iob_strings',\n",
       " 'is_alpha',\n",
       " 'is_ancestor',\n",
       " 'is_ascii',\n",
       " 'is_bracket',\n",
       " 'is_currency',\n",
       " 'is_digit',\n",
       " 'is_left_punct',\n",
       " 'is_lower',\n",
       " 'is_oov',\n",
       " 'is_punct',\n",
       " 'is_quote',\n",
       " 'is_right_punct',\n",
       " 'is_sent_end',\n",
       " 'is_sent_start',\n",
       " 'is_space',\n",
       " 'is_stop',\n",
       " 'is_title',\n",
       " 'is_upper',\n",
       " 'lang',\n",
       " 'lang_',\n",
       " 'left_edge',\n",
       " 'lefts',\n",
       " 'lemma',\n",
       " 'lemma_',\n",
       " 'lex',\n",
       " 'lex_id',\n",
       " 'like_email',\n",
       " 'like_num',\n",
       " 'like_url',\n",
       " 'lower',\n",
       " 'lower_',\n",
       " 'morph',\n",
       " 'n_lefts',\n",
       " 'n_rights',\n",
       " 'nbor',\n",
       " 'norm',\n",
       " 'norm_',\n",
       " 'orth',\n",
       " 'orth_',\n",
       " 'pos',\n",
       " 'pos_',\n",
       " 'prefix',\n",
       " 'prefix_',\n",
       " 'prob',\n",
       " 'rank',\n",
       " 'remove_extension',\n",
       " 'right_edge',\n",
       " 'rights',\n",
       " 'sent',\n",
       " 'sent_start',\n",
       " 'sentiment',\n",
       " 'set_extension',\n",
       " 'set_morph',\n",
       " 'shape',\n",
       " 'shape_',\n",
       " 'similarity',\n",
       " 'subtree',\n",
       " 'suffix',\n",
       " 'suffix_',\n",
       " 'tag',\n",
       " 'tag_',\n",
       " 'tensor',\n",
       " 'text',\n",
       " 'text_with_ws',\n",
       " 'vector',\n",
       " 'vector_norm',\n",
       " 'vocab',\n",
       " 'whitespace_']"
      ]
     },
     "execution_count": 7,
     "metadata": {},
     "output_type": "execute_result"
    }
   ],
   "source": [
    "dir(token0) #By doin this we will get all the attributes related to the certain variable"
   ]
  },
  {
   "cell_type": "code",
   "execution_count": 8,
   "id": "3d44027e-8f6a-4111-a091-e959f4b9c570",
   "metadata": {},
   "outputs": [
    {
     "data": {
      "text/plain": [
       "True"
      ]
     },
     "execution_count": 8,
     "metadata": {},
     "output_type": "execute_result"
    }
   ],
   "source": [
    "token2 = doc[2]\n",
    "token2.is_currency "
   ]
  },
  {
   "cell_type": "code",
   "execution_count": 9,
   "id": "5480b3bf-867a-45a7-8704-3a84abb2442c",
   "metadata": {},
   "outputs": [
    {
     "data": {
      "text/plain": [
       "False"
      ]
     },
     "execution_count": 9,
     "metadata": {},
     "output_type": "execute_result"
    }
   ],
   "source": [
    "token1 = doc[1]\n",
    "token1.is_upper"
   ]
  },
  {
   "cell_type": "markdown",
   "id": "2a19b6ec-84eb-4021-af6e-0d3b16cf5e1a",
   "metadata": {},
   "source": [
    "# 3. Now lets try to grab emails from the txt file"
   ]
  },
  {
   "cell_type": "code",
   "execution_count": 10,
   "id": "8565b4a4-3fd7-4cc3-af56-b070962d9ee4",
   "metadata": {},
   "outputs": [
    {
     "data": {
      "text/plain": [
       "['names             birthday            emails\\n',\n",
       " 'aaditya           05-02-2004         aaditya@gmail.com\\n',\n",
       " 'vrushabh          15-07-2007         vrushabh@gmail.com']"
      ]
     },
     "execution_count": 10,
     "metadata": {},
     "output_type": "execute_result"
    }
   ],
   "source": [
    "#Opens the file in python \n",
    "with open(\"name.txt\") as f:\n",
    "    text = f.readlines()\n",
    "text\n",
    "#It will return us the array or list"
   ]
  },
  {
   "cell_type": "code",
   "execution_count": 11,
   "id": "4df15ec2-3801-45f3-8b3a-b1dcaf6ef677",
   "metadata": {},
   "outputs": [
    {
     "data": {
      "text/plain": [
       "'names             birthday            emails\\naaditya           05-02-2004         aaditya@gmail.com\\nvrushabh          15-07-2007         vrushabh@gmail.com'"
      ]
     },
     "execution_count": 11,
     "metadata": {},
     "output_type": "execute_result"
    }
   ],
   "source": [
    "# Making this upper array in single sentence(Joining each word with space)\n",
    "text = ''.join(text)\n",
    "text\n"
   ]
  },
  {
   "cell_type": "code",
   "execution_count": 12,
   "id": "ada59402-dd66-42e3-807e-119ea9f76103",
   "metadata": {},
   "outputs": [
    {
     "name": "stdout",
     "output_type": "stream",
     "text": [
      "05\n",
      "02\n",
      "2004\n",
      "aaditya@gmail.com\n",
      "15\n",
      "07\n",
      "2007\n",
      "vrushabh@gmail.com\n"
     ]
    }
   ],
   "source": [
    "doc  = nlp(text)\n",
    "for token in doc:\n",
    "    if token.like_email: #as we know token have attributes so we will use \"like_email\"\n",
    "        print(token)\n",
    "    elif token.like_num:#If the token is number\n",
    "        print(token)"
   ]
  },
  {
   "cell_type": "code",
   "execution_count": 13,
   "id": "a66b2a43-c8ae-4d1c-b235-2faae2593910",
   "metadata": {},
   "outputs": [],
   "source": [
    "#Now if you want this token in list or an array then\n",
    "emails = []\n",
    "nums = []\n",
    "for token in doc:\n",
    "    if token.like_email:\n",
    "        emails.append(token)\n",
    "    elif token.like_num:\n",
    "        nums.append(token)\n"
   ]
  },
  {
   "cell_type": "code",
   "execution_count": 14,
   "id": "e4563767-5f7e-4e7c-bb49-b47ece6ce18a",
   "metadata": {},
   "outputs": [
    {
     "data": {
      "text/plain": [
       "[05, 02, 2004, 15, 07, 2007]"
      ]
     },
     "execution_count": 14,
     "metadata": {},
     "output_type": "execute_result"
    }
   ],
   "source": [
    "nums"
   ]
  },
  {
   "cell_type": "code",
   "execution_count": 15,
   "id": "1b7422ca-79b5-4e72-b000-08904ef7732c",
   "metadata": {},
   "outputs": [
    {
     "data": {
      "text/plain": [
       "[aaditya@gmail.com, vrushabh@gmail.com]"
      ]
     },
     "execution_count": 15,
     "metadata": {},
     "output_type": "execute_result"
    }
   ],
   "source": [
    "emails"
   ]
  },
  {
   "cell_type": "code",
   "execution_count": 16,
   "id": "24b3d464-74fc-453f-95dc-cf1417ccf2c0",
   "metadata": {},
   "outputs": [
    {
     "data": {
      "text/plain": [
       "[aaditya@gmail.com, vrushabh@gmail.com]"
      ]
     },
     "execution_count": 16,
     "metadata": {},
     "output_type": "execute_result"
    }
   ],
   "source": [
    "emails"
   ]
  },
  {
   "cell_type": "code",
   "execution_count": null,
   "id": "d4028586",
   "metadata": {},
   "outputs": [],
   "source": []
  }
 ],
 "metadata": {
  "kernelspec": {
   "display_name": "base",
   "language": "python",
   "name": "python3"
  },
  "language_info": {
   "codemirror_mode": {
    "name": "ipython",
    "version": 3
   },
   "file_extension": ".py",
   "mimetype": "text/x-python",
   "name": "python",
   "nbconvert_exporter": "python",
   "pygments_lexer": "ipython3",
   "version": "3.12.7"
  }
 },
 "nbformat": 4,
 "nbformat_minor": 5
}
