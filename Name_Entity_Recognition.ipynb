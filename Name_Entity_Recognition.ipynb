{
 "cells": [
  {
   "cell_type": "code",
   "execution_count": 1,
   "id": "ec6f647e-e0c7-4817-bbe5-adee024cb4ee",
   "metadata": {},
   "outputs": [],
   "source": [
    "import spacy"
   ]
  },
  {
   "cell_type": "markdown",
   "id": "38fe7156-ee9c-4dc5-a343-d6e148f4d42d",
   "metadata": {},
   "source": [
    "Elon Musk has told Tesla employees to come back into\n",
    "their respective offices at least 40 hours a week or leave\n",
    "the company.\n",
    "Musk said in two separate emails that people must show\n",
    "up for at least 40 hours per week in a main Tesla office. \"If\n",
    "you don't show up, we will assume you have resigned\n",
    "# Here Elon Musk is person name and tesla is the company name"
   ]
  },
  {
   "cell_type": "code",
   "execution_count": 5,
   "id": "b5075934-d356-46d2-b1b7-ac425c2c6e81",
   "metadata": {},
   "outputs": [],
   "source": [
    "nlp = spacy.load(\"en_core_web_sm\")\n",
    "#Here en_core_web_em is a pretrained nlp models\n"
   ]
  },
  {
   "cell_type": "code",
   "execution_count": 9,
   "id": "64a9d833-ceb1-47bc-af55-ff37b82e8b4b",
   "metadata": {},
   "outputs": [
    {
     "data": {
      "text/plain": [
       "['tok2vec', 'tagger', 'parser', 'attribute_ruler', 'lemmatizer', 'ner']"
      ]
     },
     "execution_count": 9,
     "metadata": {},
     "output_type": "execute_result"
    }
   ],
   "source": [
    "nlp.pipe_names"
   ]
  },
  {
   "cell_type": "markdown",
   "id": "02b277e6-4551-4718-b609-3aaf54415bd7",
   "metadata": {},
   "source": [
    "Here it is in pipeline \"ner\""
   ]
  },
  {
   "cell_type": "code",
   "execution_count": 13,
   "id": "669f13e0-b72a-4a33-adfa-591c96cf1eab",
   "metadata": {},
   "outputs": [],
   "source": [
    "doc = nlp(\"Elon Musk has told Tesla employees to come back into their respective offices at least 40 hours a week or leave the company. Musk said in two separate emails that people must show up for at least 40 hours per week in a main Tesla office\")"
   ]
  },
  {
   "cell_type": "code",
   "execution_count": 27,
   "id": "45a2777f-7921-4a34-8e95-dd277c7158cb",
   "metadata": {},
   "outputs": [
    {
     "name": "stdout",
     "output_type": "stream",
     "text": [
      "Elon Musk | PERSON | None\n",
      "Tesla | NORP | None\n",
      "at least 40 hours | TIME | None\n",
      "two | CARDINAL | None\n",
      "at least 40 hours | TIME | None\n",
      "Tesla | NORP | None\n"
     ]
    },
    {
     "name": "stderr",
     "output_type": "stream",
     "text": [
      "/opt/anaconda3/lib/python3.12/site-packages/spacy/glossary.py:20: UserWarning: [W118] Term '380' not found in glossary. It may however be explained in documentation for the corpora used to train the language. Please check `nlp.meta[\"sources\"]` for any relevant links.\n",
      "  warnings.warn(Warnings.W118.format(term=term))\n",
      "/opt/anaconda3/lib/python3.12/site-packages/spacy/glossary.py:20: UserWarning: [W118] Term '381' not found in glossary. It may however be explained in documentation for the corpora used to train the language. Please check `nlp.meta[\"sources\"]` for any relevant links.\n",
      "  warnings.warn(Warnings.W118.format(term=term))\n",
      "/opt/anaconda3/lib/python3.12/site-packages/spacy/glossary.py:20: UserWarning: [W118] Term '392' not found in glossary. It may however be explained in documentation for the corpora used to train the language. Please check `nlp.meta[\"sources\"]` for any relevant links.\n",
      "  warnings.warn(Warnings.W118.format(term=term))\n",
      "/opt/anaconda3/lib/python3.12/site-packages/spacy/glossary.py:20: UserWarning: [W118] Term '397' not found in glossary. It may however be explained in documentation for the corpora used to train the language. Please check `nlp.meta[\"sources\"]` for any relevant links.\n",
      "  warnings.warn(Warnings.W118.format(term=term))\n"
     ]
    }
   ],
   "source": [
    "for ent in doc.ents:\n",
    "    print(ent.text,'|',ent.label_,'|',spacy.explain(ent.label))"
   ]
  },
  {
   "cell_type": "code",
   "execution_count": 31,
   "id": "cba33baa-2e11-4148-b5ca-e5cea423ea4a",
   "metadata": {},
   "outputs": [
    {
     "data": {
      "text/html": [
       "<span class=\"tex2jax_ignore\"><div class=\"entities\" style=\"line-height: 2.5; direction: ltr\">\n",
       "<mark class=\"entity\" style=\"background: #aa9cfc; padding: 0.45em 0.6em; margin: 0 0.25em; line-height: 1; border-radius: 0.35em;\">\n",
       "    Elon Musk\n",
       "    <span style=\"font-size: 0.8em; font-weight: bold; line-height: 1; border-radius: 0.35em; vertical-align: middle; margin-left: 0.5rem\">PERSON</span>\n",
       "</mark>\n",
       " has told \n",
       "<mark class=\"entity\" style=\"background: #c887fb; padding: 0.45em 0.6em; margin: 0 0.25em; line-height: 1; border-radius: 0.35em;\">\n",
       "    Tesla\n",
       "    <span style=\"font-size: 0.8em; font-weight: bold; line-height: 1; border-radius: 0.35em; vertical-align: middle; margin-left: 0.5rem\">NORP</span>\n",
       "</mark>\n",
       " employees to come back into their respective offices \n",
       "<mark class=\"entity\" style=\"background: #bfe1d9; padding: 0.45em 0.6em; margin: 0 0.25em; line-height: 1; border-radius: 0.35em;\">\n",
       "    at least 40 hours\n",
       "    <span style=\"font-size: 0.8em; font-weight: bold; line-height: 1; border-radius: 0.35em; vertical-align: middle; margin-left: 0.5rem\">TIME</span>\n",
       "</mark>\n",
       " a week or leave the company. Musk said in \n",
       "<mark class=\"entity\" style=\"background: #e4e7d2; padding: 0.45em 0.6em; margin: 0 0.25em; line-height: 1; border-radius: 0.35em;\">\n",
       "    two\n",
       "    <span style=\"font-size: 0.8em; font-weight: bold; line-height: 1; border-radius: 0.35em; vertical-align: middle; margin-left: 0.5rem\">CARDINAL</span>\n",
       "</mark>\n",
       " separate emails that people must show up for \n",
       "<mark class=\"entity\" style=\"background: #bfe1d9; padding: 0.45em 0.6em; margin: 0 0.25em; line-height: 1; border-radius: 0.35em;\">\n",
       "    at least 40 hours\n",
       "    <span style=\"font-size: 0.8em; font-weight: bold; line-height: 1; border-radius: 0.35em; vertical-align: middle; margin-left: 0.5rem\">TIME</span>\n",
       "</mark>\n",
       " per week in a main \n",
       "<mark class=\"entity\" style=\"background: #c887fb; padding: 0.45em 0.6em; margin: 0 0.25em; line-height: 1; border-radius: 0.35em;\">\n",
       "    Tesla\n",
       "    <span style=\"font-size: 0.8em; font-weight: bold; line-height: 1; border-radius: 0.35em; vertical-align: middle; margin-left: 0.5rem\">NORP</span>\n",
       "</mark>\n",
       " office</div></span>"
      ],
      "text/plain": [
       "<IPython.core.display.HTML object>"
      ]
     },
     "metadata": {},
     "output_type": "display_data"
    }
   ],
   "source": [
    "#For great visualisation u can use displacy\n",
    "from spacy import displacy\n",
    "displacy.render(doc,style=\"ent\")"
   ]
  },
  {
   "cell_type": "code",
   "execution_count": null,
   "id": "c34774c8-b812-49aa-bb9e-4a309479adce",
   "metadata": {},
   "outputs": [],
   "source": []
  }
 ],
 "metadata": {
  "kernelspec": {
   "display_name": "Python [conda env:base] *",
   "language": "python",
   "name": "conda-base-py"
  },
  "language_info": {
   "codemirror_mode": {
    "name": "ipython",
    "version": 3
   },
   "file_extension": ".py",
   "mimetype": "text/x-python",
   "name": "python",
   "nbconvert_exporter": "python",
   "pygments_lexer": "ipython3",
   "version": "3.12.7"
  }
 },
 "nbformat": 4,
 "nbformat_minor": 5
}
