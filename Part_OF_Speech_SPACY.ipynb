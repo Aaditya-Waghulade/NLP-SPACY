{
 "cells": [
  {
   "cell_type": "code",
   "execution_count": 1,
   "id": "e6ade09c-d92f-4ed5-b98d-6c4f1d9df019",
   "metadata": {},
   "outputs": [],
   "source": [
    "#Lets learn how to make part of speech in spacy\n"
   ]
  },
  {
   "cell_type": "code",
   "execution_count": 3,
   "id": "17b42e25-fc96-453e-b8b9-b73a131f8a01",
   "metadata": {},
   "outputs": [],
   "source": [
    "import spacy"
   ]
  },
  {
   "cell_type": "code",
   "execution_count": 26,
   "id": "66bcc286-daa2-4c94-9fca-8fa2e4d67ed6",
   "metadata": {},
   "outputs": [
    {
     "data": {
      "text/plain": [
       "['tok2vec', 'tagger', 'parser', 'attribute_ruler', 'lemmatizer', 'ner']"
      ]
     },
     "execution_count": 26,
     "metadata": {},
     "output_type": "execute_result"
    }
   ],
   "source": [
    "nlp = spacy.load('en_core_web_sm')\n",
    "#For printing pipelines\n",
    "nlp.pipe_names"
   ]
  },
  {
   "cell_type": "code",
   "execution_count": 42,
   "id": "f3726fd4-1cc1-4d9a-bacd-4bdf090819ec",
   "metadata": {},
   "outputs": [
    {
     "name": "stdout",
     "output_type": "stream",
     "text": [
      "Tokens : Elon > PROPN > proper noun > NNP | noun, proper singular\n",
      "Tokens : flew > VERB > verb > VBD | verb, past tense\n",
      "Tokens : on > ADP > adposition > IN | conjunction, subordinating or preposition\n",
      "Tokens : mars > NOUN > noun > NNS | noun, plural\n",
      "Tokens : yesterday > NOUN > noun > NN | noun, singular or mass\n",
      "Tokens : , > PUNCT > punctuation > , | punctuation mark, comma\n",
      "Tokens : Bill > PROPN > proper noun > NNP | noun, proper singular\n",
      "Tokens : gate > NOUN > noun > NN | noun, singular or mass\n",
      "Tokens : is > AUX > auxiliary > VBZ | verb, 3rd person singular present\n",
      "Tokens : the > DET > determiner > DT | determiner\n",
      "Tokens : richest > ADJ > adjective > JJS | adjective, superlative\n",
      "Tokens : person > NOUN > noun > NN | noun, singular or mass\n",
      "Tokens : in > ADP > adposition > IN | conjunction, subordinating or preposition\n",
      "Tokens : world > NOUN > noun > NN | noun, singular or mass\n"
     ]
    }
   ],
   "source": [
    "doc = nlp(\"Elon flew on mars yesterday , Bill gate is the richest person in world\")\n",
    "for token in doc:\n",
    "    print(\"Tokens :\",token,\">\",token.pos_ ,\">\", spacy.explain(token.pos_),\">\",token.tag_ , \"|\",spacy.explain(token.tag_) )\n",
    "    "
   ]
  },
  {
   "cell_type": "markdown",
   "id": "e9b787b3-b84c-4b8b-9e55-00fd45216e92",
   "metadata": {},
   "source": [
    "# Now lets remove non necessary tokens like panctuation(,.?!) from a paragraph"
   ]
  },
  {
   "cell_type": "code",
   "execution_count": 51,
   "id": "c12c9283-9298-4a58-9cd0-68ddf8aa5f2a",
   "metadata": {},
   "outputs": [],
   "source": [
    "doc = nlp(\"Apple's recent financial reports highlight significant revenue growth across various segments, including iPhones, services, and wearables, with a strong emphasis on customer loyalty and satisfaction. Apple's second-quarter results for fiscal year 2025 demonstrated strong performance, including double-digit growth in Services and surpassing analysts' expectations for iPhone sales. The company also announced a new $100 billion stock repurchase program and increased its dividend, reflecting confidence in its future prospects. \")"
   ]
  },
  {
   "cell_type": "code",
   "execution_count": 85,
   "id": "fad2c1a3-42cd-4a80-b083-e82067b8933f",
   "metadata": {},
   "outputs": [
    {
     "name": "stdout",
     "output_type": "stream",
     "text": [
      "Token > Apple | POS > PROPN\n",
      "Token > 's | POS > PART\n",
      "Token > recent | POS > ADJ\n",
      "Token > financial | POS > ADJ\n",
      "Token > reports | POS > NOUN\n",
      "Token > highlight | POS > VERB\n",
      "Token > significant | POS > ADJ\n",
      "Token > revenue | POS > NOUN\n",
      "Token > growth | POS > NOUN\n",
      "Token > across | POS > ADP\n",
      "Token > various | POS > ADJ\n",
      "Token > segments | POS > NOUN\n",
      "Token > , | POS > PUNCT\n",
      "Token > including | POS > VERB\n",
      "Token > iPhones | POS > NOUN\n",
      "Token > , | POS > PUNCT\n",
      "Token > services | POS > NOUN\n",
      "Token > , | POS > PUNCT\n",
      "Token > and | POS > CCONJ\n",
      "Token > wearables | POS > NOUN\n",
      "Token > , | POS > PUNCT\n",
      "Token > with | POS > ADP\n",
      "Token > a | POS > DET\n",
      "Token > strong | POS > ADJ\n",
      "Token > emphasis | POS > NOUN\n",
      "Token > on | POS > ADP\n",
      "Token > customer | POS > NOUN\n",
      "Token > loyalty | POS > NOUN\n",
      "Token > and | POS > CCONJ\n",
      "Token > satisfaction | POS > NOUN\n",
      "Token > . | POS > PUNCT\n",
      "Token > Apple | POS > PROPN\n",
      "Token > 's | POS > PART\n",
      "Token > second | POS > ADJ\n",
      "Token > - | POS > PUNCT\n",
      "Token > quarter | POS > NOUN\n",
      "Token > results | POS > NOUN\n",
      "Token > for | POS > ADP\n",
      "Token > fiscal | POS > ADJ\n",
      "Token > year | POS > NOUN\n",
      "Token > 2025 | POS > NUM\n",
      "Token > demonstrated | POS > VERB\n",
      "Token > strong | POS > ADJ\n",
      "Token > performance | POS > NOUN\n",
      "Token > , | POS > PUNCT\n",
      "Token > including | POS > VERB\n",
      "Token > double | POS > ADJ\n",
      "Token > - | POS > PUNCT\n",
      "Token > digit | POS > NOUN\n",
      "Token > growth | POS > NOUN\n",
      "Token > in | POS > ADP\n",
      "Token > Services | POS > PROPN\n",
      "Token > and | POS > CCONJ\n",
      "Token > surpassing | POS > VERB\n",
      "Token > analysts | POS > NOUN\n",
      "Token > ' | POS > PART\n",
      "Token > expectations | POS > NOUN\n",
      "Token > for | POS > ADP\n",
      "Token > iPhone | POS > PROPN\n",
      "Token > sales | POS > NOUN\n",
      "Token > . | POS > PUNCT\n",
      "Token > The | POS > DET\n",
      "Token > company | POS > NOUN\n",
      "Token > also | POS > ADV\n",
      "Token > announced | POS > VERB\n",
      "Token > a | POS > DET\n",
      "Token > new | POS > ADJ\n",
      "Token > $ | POS > SYM\n",
      "Token > 100 | POS > NUM\n",
      "Token > billion | POS > NUM\n",
      "Token > stock | POS > NOUN\n",
      "Token > repurchase | POS > NOUN\n",
      "Token > program | POS > NOUN\n",
      "Token > and | POS > CCONJ\n",
      "Token > increased | POS > VERB\n",
      "Token > its | POS > PRON\n",
      "Token > dividend | POS > NOUN\n",
      "Token > , | POS > PUNCT\n",
      "Token > reflecting | POS > VERB\n",
      "Token > confidence | POS > NOUN\n",
      "Token > in | POS > ADP\n",
      "Token > its | POS > PRON\n",
      "Token > future | POS > ADJ\n",
      "Token > prospects | POS > NOUN\n",
      "Token > . | POS > PUNCT\n"
     ]
    },
    {
     "ename": "TypeError",
     "evalue": "'in <string>' requires string as left operand, not list",
     "output_type": "error",
     "traceback": [
      "\u001b[0;31m---------------------------------------------------------------------------\u001b[0m",
      "\u001b[0;31mTypeError\u001b[0m                                 Traceback (most recent call last)",
      "Cell \u001b[0;32mIn[85], line 7\u001b[0m\n\u001b[1;32m      5\u001b[0m     POS \u001b[38;5;241m=\u001b[39m token\u001b[38;5;241m.\u001b[39mpos_\n\u001b[1;32m      6\u001b[0m \u001b[38;5;28;01mfor\u001b[39;00m token \u001b[38;5;129;01min\u001b[39;00m doc:\n\u001b[0;32m----> 7\u001b[0m     \u001b[38;5;28;01mif\u001b[39;00m ignore_letters \u001b[38;5;129;01mnot\u001b[39;00m \u001b[38;5;129;01min\u001b[39;00m POS:\n\u001b[1;32m      8\u001b[0m         new_tokens \u001b[38;5;241m=\u001b[39m words\u001b[38;5;241m.\u001b[39mappend(token)\n",
      "\u001b[0;31mTypeError\u001b[0m: 'in <string>' requires string as left operand, not list"
     ]
    }
   ],
   "source": [
    "ignore_letters = [',','.','?','!']\n",
    "words = []\n",
    "for token in doc:\n",
    "    print('Token >',token,'|','POS >',token.pos_) #Printing tokens and their pos\n",
    "    POS = token.pos_\n",
    "for token in doc:\n",
    "    if ignore_letters not in POS:\n",
    "        new_tokens = words.append(token)\n"
   ]
  },
  {
   "cell_type": "code",
   "execution_count": null,
   "id": "b03f111c-5aa9-45dd-a8da-0c1850c970ed",
   "metadata": {},
   "outputs": [],
   "source": []
  }
 ],
 "metadata": {
  "kernelspec": {
   "display_name": "Python [conda env:base] *",
   "language": "python",
   "name": "conda-base-py"
  },
  "language_info": {
   "codemirror_mode": {
    "name": "ipython",
    "version": 3
   },
   "file_extension": ".py",
   "mimetype": "text/x-python",
   "name": "python",
   "nbconvert_exporter": "python",
   "pygments_lexer": "ipython3",
   "version": "3.12.7"
  }
 },
 "nbformat": 4,
 "nbformat_minor": 5
}
